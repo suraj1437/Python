{
 "cells": [
  {
   "cell_type": "code",
   "execution_count": null,
   "id": "7378a702",
   "metadata": {},
   "outputs": [],
   "source": [
    "print(\"Day1 Of Python\")"
   ]
  },
  {
   "cell_type": "code",
   "execution_count": null,
   "id": "e3ccfe59",
   "metadata": {},
   "outputs": [],
   "source": []
  }
 ],
 "metadata": {
  "kernelspec": {
   "display_name": "Python 3",
   "language": "python",
   "name": "python3"
  },
  "language_info": {
   "name": "python",
   "version": "3.10.12"
  }
 },
 "nbformat": 4,
 "nbformat_minor": 5
}
