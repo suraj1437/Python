{
 "cells": [
  {
   "cell_type": "code",
   "execution_count": null,
   "id": "7378a702",
   "metadata": {},
   "outputs": [],
   "source": [
    "print(\"Day1 Of Python\")"
   ]
  },
  {
   "cell_type": "code",
   "execution_count": 1,
   "id": "e3ccfe59",
   "metadata": {},
   "outputs": [
    {
     "name": "stdout",
     "output_type": "stream",
     "text": [
      "Hello World!!!!\n"
     ]
    }
   ],
   "source": [
    "print(\"Hello World!!!!\")"
   ]
  }
 ],
 "metadata": {
  "kernelspec": {
   "display_name": "Python 3",
   "language": "python",
   "name": "python3"
  },
  "language_info": {
   "codemirror_mode": {
    "name": "ipython",
    "version": 3
   },
   "file_extension": ".py",
   "mimetype": "text/x-python",
   "name": "python",
   "nbconvert_exporter": "python",
   "pygments_lexer": "ipython3",
   "version": "3.10.12"
  }
 },
 "nbformat": 4,
 "nbformat_minor": 5
}
