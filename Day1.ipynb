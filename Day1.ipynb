{
 "cells": [
  {
   "cell_type": "code",
   "execution_count": 1,
   "id": "7378a702",
   "metadata": {},
   "outputs": [
    {
     "name": "stdout",
     "output_type": "stream",
     "text": [
      "Day1 Of Python\n"
     ]
    }
   ],
   "source": [
    "print(\"Day1 Of Python\")"
   ]
  },
  {
   "cell_type": "code",
   "execution_count": 2,
   "id": "e3ccfe59",
   "metadata": {},
   "outputs": [
    {
     "name": "stdout",
     "output_type": "stream",
     "text": [
      "['Apple', 'Dog', 'Cat']\n"
     ]
    }
   ],
   "source": [
    "List=[\"Apple\",\"Dog\",\"Cat\"]\n",
    "\n",
    "print(List)"
   ]
  },
  {
   "cell_type": "markdown",
   "id": "1d6c8dcb",
   "metadata": {},
   "source": [
    "**APPEND**\n",
    "\n",
    "- Append Adds Items At The Last"
   ]
  },
  {
   "cell_type": "code",
   "execution_count": null,
   "id": "5286d4e6",
   "metadata": {},
   "outputs": [
    {
     "name": "stdout",
     "output_type": "stream",
     "text": [
      "['Apple', 'Dog', 'Cat', 'Iphone']\n"
     ]
    }
   ],
   "source": [
    "\n",
    "\n",
    "List.append(\"Iphone\")\n",
    "\n",
    "print(List)"
   ]
  },
  {
   "cell_type": "markdown",
   "id": "883bca33",
   "metadata": {},
   "source": [
    "**Pop**\n",
    "\n",
    "- *pop()*: It removes the last element from the list.\n",
    "- *pop(2)*: It removes the l element at second index from the list.\n"
   ]
  },
  {
   "cell_type": "code",
   "execution_count": 5,
   "id": "349b5194",
   "metadata": {},
   "outputs": [
    {
     "name": "stdout",
     "output_type": "stream",
     "text": [
      "['Apple', 'Dog', 'Cat']\n"
     ]
    }
   ],
   "source": [
    "List.pop()\n",
    "print(List)"
   ]
  },
  {
   "cell_type": "markdown",
   "id": "a9a94898",
   "metadata": {},
   "source": [
    "#Insert\n",
    "\n",
    "- Adds Items At Given Index"
   ]
  },
  {
   "cell_type": "code",
   "execution_count": 7,
   "id": "f29570c0",
   "metadata": {},
   "outputs": [
    {
     "name": "stdout",
     "output_type": "stream",
     "text": [
      "['Apple', 'Dog', ['I Love Sia', 7], 'Cat']\n"
     ]
    }
   ],
   "source": [
    "List.insert(2,[\"I Love Sia\",7])\n",
    "print(List)"
   ]
  },
  {
   "cell_type": "markdown",
   "id": "fe9d107b",
   "metadata": {},
   "source": [
    "**Extend**\n",
    "\n",
    "- Adds Multiple Items One By One"
   ]
  },
  {
   "cell_type": "code",
   "execution_count": 8,
   "id": "dc279c8a",
   "metadata": {},
   "outputs": [
    {
     "name": "stdout",
     "output_type": "stream",
     "text": [
      "['Apple', 'Dog', ['I Love Sia', 7], 'Cat', 1, 2, 3, 2, 5]\n"
     ]
    }
   ],
   "source": [
    "List.extend([1,2,3,2,5])\n",
    "print(List)"
   ]
  },
  {
   "cell_type": "markdown",
   "id": "4cae8902",
   "metadata": {},
   "source": [
    "**Remove**\n",
    "\n",
    "- Removes The First occurence Of The Elemenet"
   ]
  },
  {
   "cell_type": "code",
   "execution_count": 9,
   "id": "7331024d",
   "metadata": {},
   "outputs": [
    {
     "name": "stdout",
     "output_type": "stream",
     "text": [
      "['Apple', 'Dog', ['I Love Sia', 7], 'Cat', 1, 3, 2, 5]\n"
     ]
    }
   ],
   "source": [
    "List.remove(2)\n",
    "print(List)"
   ]
  },
  {
   "cell_type": "markdown",
   "id": "733ebaf0",
   "metadata": {},
   "source": [
    "**Python List Methods**\n",
    "\n",
    "- **append(x)**: Add single element to end.\n",
    "- **extend(iterable)**: Add all elements of iterable to end.\n",
    "- **insert(i, x)**: Insert x at index i.\n",
    "- **pop() / pop(i)**: Remove and return last or i-th item.\n",
    "- **remove(x)**: Remove first occurrence of x.\n",
    "- **clear()**: Remove all elements.\n",
    "- **index(x)**: Return index of first x.\n",
    "- **count(x)**: Count occurrences of x.\n",
    "- **sort()**: Sort list ascending.\n",
    "- **sort(reverse=True)**: Sort list descending.\n",
    "- **reverse()**: Reverse list in place.\n",
    "- **copy()**: Return shallow copy."
   ]
  },
  {
   "cell_type": "code",
   "execution_count": 11,
   "id": "82ddc407",
   "metadata": {},
   "outputs": [
    {
     "name": "stdout",
     "output_type": "stream",
     "text": [
      "[5, 2, 3, 1, 'Cat', ['I Love Sia', 7], 'Dog', 'Apple']\n"
     ]
    }
   ],
   "source": [
    "List.reverse()\n",
    "print(List)"
   ]
  },
  {
   "cell_type": "markdown",
   "id": "ef702018",
   "metadata": {},
   "source": [
    "**SLICING**\n",
    "\n",
    "-list[start:stop:step]"
   ]
  },
  {
   "cell_type": "code",
   "execution_count": null,
   "id": "e71ee5d1",
   "metadata": {},
   "outputs": [
    {
     "name": "stdout",
     "output_type": "stream",
     "text": [
      "[1, 5, 3]\n"
     ]
    }
   ],
   "source": [
    "Nums=[1,5,3,7,2]\n",
    "#Prints First 3 Items\n",
    "print(Nums[:3])"
   ]
  },
  {
   "cell_type": "code",
   "execution_count": 15,
   "id": "143f9253",
   "metadata": {},
   "outputs": [
    {
     "name": "stdout",
     "output_type": "stream",
     "text": [
      "[3, 7, 2]\n"
     ]
    }
   ],
   "source": [
    "#Prints First 2 to 4th index Items\n",
    "print(Nums[2:6])"
   ]
  },
  {
   "cell_type": "code",
   "execution_count": null,
   "id": "6cdcffcb",
   "metadata": {},
   "outputs": [
    {
     "name": "stdout",
     "output_type": "stream",
     "text": [
      "[1, 2, 3, 5, 7]\n"
     ]
    }
   ],
   "source": [
    "Nums.sort()\n",
    "#Sorts In Ascending\n",
    "print(Nums)"
   ]
  },
  {
   "cell_type": "code",
   "execution_count": null,
   "id": "d3ba3a3f",
   "metadata": {},
   "outputs": [
    {
     "data": {
      "text/plain": [
       "[2, 5]"
      ]
     },
     "execution_count": 19,
     "metadata": {},
     "output_type": "execute_result"
    }
   ],
   "source": [
    "Nums[1:5:2]\n",
    "#Prints Items From index1 to 4 with step 2"
   ]
  },
  {
   "cell_type": "markdown",
   "id": "ca60ceba",
   "metadata": {},
   "source": [
    "** Prints Squares From 0-9**"
   ]
  },
  {
   "cell_type": "code",
   "execution_count": null,
   "id": "9877461f",
   "metadata": {},
   "outputs": [
    {
     "name": "stdout",
     "output_type": "stream",
     "text": [
      "[0, 1, 4, 9, 16, 25, 36, 49, 64, 81]\n"
     ]
    }
   ],
   "source": [
    "Squares=[x**2 for x in range(10)]\n",
    "print(Squares)"
   ]
  },
  {
   "cell_type": "markdown",
   "id": "7bd5401d",
   "metadata": {},
   "source": []
  },
  {
   "cell_type": "markdown",
   "id": "56ae9035",
   "metadata": {},
   "source": [
    " **Print Even Numbers**"
   ]
  },
  {
   "cell_type": "code",
   "execution_count": 24,
   "id": "378d9939",
   "metadata": {},
   "outputs": [
    {
     "data": {
      "text/plain": [
       "[0, 2, 4, 6, 8, 10, 12, 14, 16, 18]"
      ]
     },
     "execution_count": 24,
     "metadata": {},
     "output_type": "execute_result"
    }
   ],
   "source": [
    "Even_Nums=[x for x in range(20) if x%2==0]\n",
    "Even_Nums"
   ]
  },
  {
   "cell_type": "markdown",
   "id": "f3290a9a",
   "metadata": {},
   "source": [
    "## Built In Functions"
   ]
  },
  {
   "cell_type": "markdown",
   "id": "405faa18",
   "metadata": {},
   "source": [
    "** Lambda**\n",
    "\n",
    "- *(lambda x:x**x,num)*\n",
    "- It  applies the  function to the element"
   ]
  },
  {
   "cell_type": "code",
   "execution_count": null,
   "id": "42376642",
   "metadata": {},
   "outputs": [
    {
     "data": {
      "text/plain": [
       "[<function __main__.<lambda>(num)>, 5]"
      ]
     },
     "execution_count": 29,
     "metadata": {},
     "output_type": "execute_result"
    }
   ],
   "source": [
    "#LAMBDA\n",
    "\n",
    "\n",
    "Square=[lambda num:num*2,5]\n",
    "Square"
   ]
  },
  {
   "cell_type": "markdown",
   "id": "501f817b",
   "metadata": {},
   "source": [
    "**MAP**\n",
    "\n",
    "- It Iterates and applies the function to every element"
   ]
  },
  {
   "cell_type": "code",
   "execution_count": 38,
   "id": "b697b005",
   "metadata": {},
   "outputs": [
    {
     "data": {
      "text/plain": [
       "[6, 7, 8, 9, 10]"
      ]
     },
     "execution_count": 38,
     "metadata": {},
     "output_type": "execute_result"
    }
   ],
   "source": [
    "Numbers=[1,2,3,4,5]\n",
    "#Adding 5 to every element\n",
    "New_Num=list(map(lambda x:x+5,Numbers))\n",
    "New_Num\n"
   ]
  },
  {
   "cell_type": "code",
   "execution_count": 40,
   "id": "5e4af538",
   "metadata": {},
   "outputs": [
    {
     "data": {
      "text/plain": [
       "[36, 49, 64, 81, 100]"
      ]
     },
     "execution_count": 40,
     "metadata": {},
     "output_type": "execute_result"
    }
   ],
   "source": [
    "#Squaring Every Element\n",
    "Square=list(map(lambda num:num*num,New_Num))\n",
    "Square"
   ]
  },
  {
   "cell_type": "markdown",
   "id": "1383862f",
   "metadata": {},
   "source": [
    "**Every Element in The list above is int and we can concert to str using map**"
   ]
  },
  {
   "cell_type": "code",
   "execution_count": 44,
   "id": "ab801718",
   "metadata": {},
   "outputs": [
    {
     "data": {
      "text/plain": [
       "int"
      ]
     },
     "execution_count": 44,
     "metadata": {},
     "output_type": "execute_result"
    }
   ],
   "source": [
    "type(Square[1])"
   ]
  },
  {
   "cell_type": "markdown",
   "id": "6f6ca56e",
   "metadata": {},
   "source": [
    "**Converting To String**"
   ]
  },
  {
   "cell_type": "code",
   "execution_count": 46,
   "id": "c18af8f9",
   "metadata": {},
   "outputs": [
    {
     "data": {
      "text/plain": [
       "str"
      ]
     },
     "execution_count": 46,
     "metadata": {},
     "output_type": "execute_result"
    }
   ],
   "source": [
    "Square=list(map(str,Square))\n",
    "type(Square[1])"
   ]
  },
  {
   "cell_type": "markdown",
   "id": "92cc38e3",
   "metadata": {},
   "source": [
    "**ZIP**\n",
    "\n",
    "- It Combines Items Of Same Index from multiple lists"
   ]
  },
  {
   "cell_type": "code",
   "execution_count": 49,
   "id": "3fac630e",
   "metadata": {},
   "outputs": [
    {
     "data": {
      "text/plain": [
       "[('Iphone', 80000), ('Sneakers', 7000), ('Ice Cream', 50)]"
      ]
     },
     "execution_count": 49,
     "metadata": {},
     "output_type": "execute_result"
    }
   ],
   "source": [
    "Names=[\"Iphone\",\"Sneakers\",\"Ice Cream\"]\n",
    "Price=[80000,7000,50]\n",
    "Items=list(zip(Names,Price))\n",
    "Items"
   ]
  },
  {
   "cell_type": "markdown",
   "id": "157e90dc",
   "metadata": {},
   "source": [
    "**Filter**\n",
    "\n",
    "- It gives output after filtering the items based on condition"
   ]
  },
  {
   "cell_type": "code",
   "execution_count": 54,
   "id": "860236bf",
   "metadata": {},
   "outputs": [
    {
     "data": {
      "text/plain": [
       "[1, 2, 3, 4, 5, 6, 7, 8, 9, 10]"
      ]
     },
     "execution_count": 54,
     "metadata": {},
     "output_type": "execute_result"
    }
   ],
   "source": [
    "# Lets Take list rnagin 1-10 and then square every element and then print only odd numbers\n",
    "Sample=list(range(1,11))\n",
    "Sample"
   ]
  },
  {
   "cell_type": "code",
   "execution_count": 56,
   "id": "de2bf233",
   "metadata": {},
   "outputs": [
    {
     "data": {
      "text/plain": [
       "[1, 4, 9, 16, 25, 36, 49, 64, 81, 100]"
      ]
     },
     "execution_count": 56,
     "metadata": {},
     "output_type": "execute_result"
    }
   ],
   "source": [
    "Squares_Samples=list(map(lambda x:x*x,Sample))\n",
    "Squares_Samples"
   ]
  },
  {
   "cell_type": "code",
   "execution_count": 57,
   "id": "d119adb7",
   "metadata": {},
   "outputs": [
    {
     "data": {
      "text/plain": [
       "[1, 9, 25, 49, 81]"
      ]
     },
     "execution_count": 57,
     "metadata": {},
     "output_type": "execute_result"
    }
   ],
   "source": [
    "Odd=list(filter(lambda x:x%2==1,Squares))\n",
    "Odd"
   ]
  },
  {
   "cell_type": "markdown",
   "id": "c06ef7ab",
   "metadata": {},
   "source": [
    "**Enumerate**\n",
    "\n",
    "- It gives index and value of the Items"
   ]
  },
  {
   "cell_type": "code",
   "execution_count": 58,
   "id": "7c178392",
   "metadata": {},
   "outputs": [
    {
     "name": "stdout",
     "output_type": "stream",
     "text": [
      "0 The Secret\n",
      "1 The Psychology Of Money\n",
      "2 Stat Quest\n",
      "3 Think Like A Monk\n"
     ]
    }
   ],
   "source": [
    "Books=[\"The Secret\",\"The Psychology Of Money\",\"Stat Quest\",\"Think Like A Monk\"]\n",
    "\n",
    "for Ind,Val in enumerate(Books):\n",
    "    print(Ind,Val)"
   ]
  },
  {
   "cell_type": "code",
   "execution_count": null,
   "id": "24d8e585",
   "metadata": {},
   "outputs": [],
   "source": []
  }
 ],
 "metadata": {
  "kernelspec": {
   "display_name": "Python 3",
   "language": "python",
   "name": "python3"
  },
  "language_info": {
   "codemirror_mode": {
    "name": "ipython",
    "version": 3
   },
   "file_extension": ".py",
   "mimetype": "text/x-python",
   "name": "python",
   "nbconvert_exporter": "python",
   "pygments_lexer": "ipython3",
   "version": "3.10.12"
  }
 },
 "nbformat": 4,
 "nbformat_minor": 5
}
