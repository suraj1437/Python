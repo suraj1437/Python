{
 "cells": [
  {
   "cell_type": "code",
   "execution_count": 1,
   "id": "effa7dfc",
   "metadata": {},
   "outputs": [
    {
     "name": "stdout",
     "output_type": "stream",
     "text": [
      "Day2 Of Python\n"
     ]
    }
   ],
   "source": [
    "print(\"Day2 Of Python\")"
   ]
  },
  {
   "cell_type": "markdown",
   "id": "b9588836",
   "metadata": {},
   "source": [
    "# DICTIONARIES"
   ]
  },
  {
   "cell_type": "markdown",
   "id": "8bae9e1c",
   "metadata": {},
   "source": [
    "**Dictionaries Are Key Value Paired**"
   ]
  },
  {
   "cell_type": "code",
   "execution_count": 2,
   "id": "92da15bb",
   "metadata": {},
   "outputs": [],
   "source": [
    "Students={\n",
    "    \"Harish\":25,\n",
    "    \"Suraj\":20,\n",
    "    \"Rio\" :3,\n",
    "    \"Shiro\":10\n",
    "}"
   ]
  },
  {
   "cell_type": "code",
   "execution_count": 3,
   "id": "49b047bc",
   "metadata": {},
   "outputs": [
    {
     "data": {
      "text/plain": [
       "25"
      ]
     },
     "execution_count": 3,
     "metadata": {},
     "output_type": "execute_result"
    }
   ],
   "source": [
    "Students[\"Harish\"]"
   ]
  },
  {
   "cell_type": "markdown",
   "id": "297ec45f",
   "metadata": {},
   "source": [
    "**Keys**\n",
    "\n",
    "- .keys() Gives Us All Keys Of The Dictionary"
   ]
  },
  {
   "cell_type": "code",
   "execution_count": 4,
   "id": "0f0b67fa",
   "metadata": {},
   "outputs": [
    {
     "data": {
      "text/plain": [
       "dict_keys(['Harish', 'Suraj', 'Rio', 'Shiro'])"
      ]
     },
     "execution_count": 4,
     "metadata": {},
     "output_type": "execute_result"
    }
   ],
   "source": [
    "Students.keys()"
   ]
  },
  {
   "cell_type": "markdown",
   "id": "b7c14316",
   "metadata": {},
   "source": [
    "**Values**\n",
    "\n",
    "- .values() Gives Us All Values Of The Dictionary Keys"
   ]
  },
  {
   "cell_type": "code",
   "execution_count": 5,
   "id": "a0a760be",
   "metadata": {},
   "outputs": [
    {
     "data": {
      "text/plain": [
       "dict_values([25, 20, 3, 10])"
      ]
     },
     "execution_count": 5,
     "metadata": {},
     "output_type": "execute_result"
    }
   ],
   "source": [
    "Students.values()"
   ]
  },
  {
   "cell_type": "markdown",
   "id": "65d549ff",
   "metadata": {},
   "source": [
    "**Pop**\n",
    "\n",
    "- IT removes the  given key value from the dictionary"
   ]
  },
  {
   "cell_type": "code",
   "execution_count": 6,
   "id": "dd91ba82",
   "metadata": {},
   "outputs": [
    {
     "data": {
      "text/plain": [
       "20"
      ]
     },
     "execution_count": 6,
     "metadata": {},
     "output_type": "execute_result"
    }
   ],
   "source": [
    "Students.pop(\"Suraj\")"
   ]
  },
  {
   "cell_type": "code",
   "execution_count": 7,
   "id": "10229f44",
   "metadata": {},
   "outputs": [
    {
     "data": {
      "text/plain": [
       "{'Harish': 25, 'Rio': 3, 'Shiro': 10}"
      ]
     },
     "execution_count": 7,
     "metadata": {},
     "output_type": "execute_result"
    }
   ],
   "source": [
    "Students"
   ]
  },
  {
   "cell_type": "markdown",
   "id": "19d9f113",
   "metadata": {},
   "source": [
    "**Pop Item**\n",
    "\n",
    "- .popitem() Removes Last entered Key Value Pair Of The Dictionary"
   ]
  },
  {
   "cell_type": "code",
   "execution_count": 8,
   "id": "e836f0fe",
   "metadata": {},
   "outputs": [
    {
     "data": {
      "text/plain": [
       "('Shiro', 10)"
      ]
     },
     "execution_count": 8,
     "metadata": {},
     "output_type": "execute_result"
    }
   ],
   "source": [
    "Students.popitem()"
   ]
  },
  {
   "cell_type": "code",
   "execution_count": 9,
   "id": "20ad3ffb",
   "metadata": {},
   "outputs": [
    {
     "data": {
      "text/plain": [
       "{'Harish': 25, 'Rio': 3}"
      ]
     },
     "execution_count": 9,
     "metadata": {},
     "output_type": "execute_result"
    }
   ],
   "source": [
    "Students"
   ]
  },
  {
   "cell_type": "markdown",
   "id": "01723fc3",
   "metadata": {},
   "source": [
    "**Copy**\n",
    "\n",
    "- .copy() Creates Copy Of Dictionary"
   ]
  },
  {
   "cell_type": "code",
   "execution_count": 10,
   "id": "84ddf1cf",
   "metadata": {},
   "outputs": [],
   "source": [
    "Students_Copy=Students.copy()"
   ]
  },
  {
   "cell_type": "code",
   "execution_count": 11,
   "id": "7257c5fa",
   "metadata": {},
   "outputs": [
    {
     "data": {
      "text/plain": [
       "{'Harish': 25, 'Rio': 3}"
      ]
     },
     "execution_count": 11,
     "metadata": {},
     "output_type": "execute_result"
    }
   ],
   "source": [
    "Students_Copy"
   ]
  },
  {
   "cell_type": "markdown",
   "id": "3c293ae9",
   "metadata": {},
   "source": [
    "**Get**\n",
    "\n",
    "- .get() Initially Gets The Value Of Key and we can pass arg on what to print if key doesnt exist"
   ]
  },
  {
   "cell_type": "code",
   "execution_count": 12,
   "id": "876df86c",
   "metadata": {},
   "outputs": [
    {
     "data": {
      "text/plain": [
       "'Missing'"
      ]
     },
     "execution_count": 12,
     "metadata": {},
     "output_type": "execute_result"
    }
   ],
   "source": [
    "Students.get(\"Suraj\",\"Missing\")"
   ]
  },
  {
   "cell_type": "markdown",
   "id": "5d8001af",
   "metadata": {},
   "source": [
    "**setdefault**\n",
    "\n",
    "- .setdefault() it also works like get() it prints the value if  key exists  and if key doesnt exist it will create it and add it to our dictionary"
   ]
  },
  {
   "cell_type": "code",
   "execution_count": 13,
   "id": "19514292",
   "metadata": {},
   "outputs": [
    {
     "data": {
      "text/plain": [
       "25"
      ]
     },
     "execution_count": 13,
     "metadata": {},
     "output_type": "execute_result"
    }
   ],
   "source": [
    "Students.setdefault(\"Harish\")"
   ]
  },
  {
   "cell_type": "code",
   "execution_count": 14,
   "id": "af5fe7ee",
   "metadata": {},
   "outputs": [
    {
     "data": {
      "text/plain": [
       "{'Harish': 25, 'Rio': 3}"
      ]
     },
     "execution_count": 14,
     "metadata": {},
     "output_type": "execute_result"
    }
   ],
   "source": [
    "Students"
   ]
  },
  {
   "cell_type": "code",
   "execution_count": 15,
   "id": "7ec10273",
   "metadata": {},
   "outputs": [
    {
     "data": {
      "text/plain": [
       "{'Harish': 25, 'Rio': 3, 'Suraj': 22}"
      ]
     },
     "execution_count": 15,
     "metadata": {},
     "output_type": "execute_result"
    }
   ],
   "source": [
    "Students.setdefault(\"Suraj\",22)\n",
    "Students"
   ]
  },
  {
   "cell_type": "code",
   "execution_count": 16,
   "id": "a76d54fc",
   "metadata": {},
   "outputs": [
    {
     "data": {
      "text/plain": [
       "{'Harish': 25, 'Rio': 3, 'Suraj': 22, 'Amrutha': 24}"
      ]
     },
     "execution_count": 16,
     "metadata": {},
     "output_type": "execute_result"
    }
   ],
   "source": [
    "Students.setdefault(\"Amrutha\",24)\n",
    "Students"
   ]
  },
  {
   "cell_type": "markdown",
   "id": "c00ee42d",
   "metadata": {},
   "source": [
    "**clear**\n",
    "\n",
    "- .clear() as name says , it clears the dictionary and returns empty dictionary"
   ]
  },
  {
   "cell_type": "code",
   "execution_count": 17,
   "id": "57c3a279",
   "metadata": {},
   "outputs": [
    {
     "data": {
      "text/plain": [
       "{}"
      ]
     },
     "execution_count": 17,
     "metadata": {},
     "output_type": "execute_result"
    }
   ],
   "source": [
    "Students_Copy.clear()\n",
    "Students_Copy"
   ]
  },
  {
   "cell_type": "markdown",
   "id": "47f2870a",
   "metadata": {},
   "source": [
    "**items**\n",
    "\n",
    "- .items() Same AS enumerate it gives key and value"
   ]
  },
  {
   "cell_type": "code",
   "execution_count": 18,
   "id": "8513d964",
   "metadata": {},
   "outputs": [
    {
     "name": "stdout",
     "output_type": "stream",
     "text": [
      "Harish 25\n",
      "Rio 3\n",
      "Suraj 22\n",
      "Amrutha 24\n"
     ]
    }
   ],
   "source": [
    "Students.items()\n",
    "\n",
    "for i,j in Students.items():\n",
    "    print(i,j)"
   ]
  },
  {
   "cell_type": "markdown",
   "id": "8c2490f0",
   "metadata": {},
   "source": [
    "**Update**\n",
    "\n",
    "- .update() it adds new key and also update the existing key with new value\n",
    "- need to pass {} inside ()"
   ]
  },
  {
   "cell_type": "code",
   "execution_count": 19,
   "id": "fe917d76",
   "metadata": {},
   "outputs": [
    {
     "data": {
      "text/plain": [
       "{'Harish': 25, 'Rio': 3, 'Suraj': 24, 'Amrutha': 24}"
      ]
     },
     "execution_count": 19,
     "metadata": {},
     "output_type": "execute_result"
    }
   ],
   "source": [
    "Students.update({\"Suraj\":24})\n",
    "Students"
   ]
  }
 ],
 "metadata": {
  "kernelspec": {
   "display_name": "Python 3",
   "language": "python",
   "name": "python3"
  },
  "language_info": {
   "codemirror_mode": {
    "name": "ipython",
    "version": 3
   },
   "file_extension": ".py",
   "mimetype": "text/x-python",
   "name": "python",
   "nbconvert_exporter": "python",
   "pygments_lexer": "ipython3",
   "version": "3.10.12"
  }
 },
 "nbformat": 4,
 "nbformat_minor": 5
}
