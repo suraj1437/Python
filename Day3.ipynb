{
 "cells": [
  {
   "cell_type": "code",
   "execution_count": 1,
   "id": "4fd03a8a",
   "metadata": {},
   "outputs": [
    {
     "name": "stdout",
     "output_type": "stream",
     "text": [
      "Day3 Of Python\n"
     ]
    }
   ],
   "source": [
    "print(\"Day3 Of Python\")\n"
   ]
  },
  {
   "cell_type": "markdown",
   "id": "71864e37",
   "metadata": {},
   "source": [
    "# Small Mini Project"
   ]
  },
  {
   "cell_type": "markdown",
   "id": "e4cc1a6e",
   "metadata": {},
   "source": [
    "## Number Guessing Game\n",
    "- Program picks a random number between **1 and 100**.  \n",
    "- User has **7 chances** to guess the number.  \n",
    "- Print `\"Too low\"` if the guess is smaller than the target.  \n",
    "- Print `\"Too high\"` if the guess is larger than the target.  \n",
    "- Print `\"Correct!\"` or `\"Out of attempts! The number was X\"` based on result.\n"
   ]
  },
  {
   "cell_type": "code",
   "execution_count": 33,
   "id": "b28efeff",
   "metadata": {},
   "outputs": [
    {
     "name": "stdout",
     "output_type": "stream",
     "text": [
      "Hello, What's Your Good Name?\n",
      "Hello , Suraj Lets Play The Game\n",
      "Welcome To My Game\n",
      "Guess The Number Between 1-100 . You Have 7 Chances To Guess\n",
      "Too High\n",
      "Guess The Number Between 1-100 . You Have 6 Chances To Guess\n",
      "Too Low\n",
      "Guess The Number Between 1-100 . You Have 5 Chances To Guess\n",
      "Too Low\n",
      "Guess The Number Between 1-100 . You Have 4 Chances To Guess\n",
      "Too High\n",
      "Guess The Number Between 1-100 . You Have 3 Chances To Guess\n",
      "Too Low\n",
      "Guess The Number Between 1-100 . You Have 2 Chances To Guess\n",
      "Too High\n",
      "Guess The Number Between 1-100 . You Have 1 Chances To Guess\n",
      "Woahhhh !! Congrats Suraj , You Guessed It Right\n",
      "Thanks For Playing \n"
     ]
    }
   ],
   "source": [
    "#Game\n",
    "import random # Helps  In Choosing Random Number\n",
    "print(\"Hello, What's Your Good Name?\")\n",
    "name=input(\"Enter Your Name:\\n\")\n",
    "print(f\"Hello , {name} Lets Play The Game\")\n",
    "Choice=input(\"\"\"Enter \"Y\" To Start And \"N\" To Stop The Game\"\"\").upper()\n",
    "if Choice==\"Y\":\n",
    "    print(\"Welcome To My Game\")\n",
    "    number=random.randint(1,100)\n",
    "    Guess=7\n",
    "    while Guess >0:\n",
    "        print(f\"Guess The Number Between 1-100 . You Have {Guess} Chances To Guess\")\n",
    "        user_inp=int(input(\"Enter The Number\"))\n",
    "\n",
    "        if user_inp==number:\n",
    "            print(f\"Woahhhh !! Congrats {name} , You Guessed It Right\")\n",
    "            print(\"Thanks For Playing \")\n",
    "            break\n",
    "        elif user_inp>number:\n",
    "            print(\"Too High\")\n",
    "            Continue=input(\"\"\"Enter \"Y\" To Continue And \"N\" To Stop The Game\"\"\").upper()\n",
    "            if Continue==\"Y\":\n",
    "                 Guess-=1\n",
    "            else :\n",
    "                 print(\"Thanks For Playing \")\n",
    "                 print(f\"The  Number Is {number}\")\n",
    "                 break\n",
    "        elif user_inp<number:\n",
    "            print(\"Too Low\")\n",
    "            Continue=input(\"\"\"Enter \"Y\" To Continue And \"N\" To Stop The Game\"\"\").upper()\n",
    "            if Continue==\"Y\":\n",
    "                 Guess-=1\n",
    "\n",
    "            else :\n",
    "                \n",
    "                print(\"Thanks For Playing \")\n",
    "                print(f\"The  Number Is {number}\")\n",
    "                break\n",
    "    else:\n",
    "            print(f\"Sorry {name}, You Are Out of attempts! The number was {number}\")\n",
    "            print(\"Thanks For Playing \")\n",
    "           \n",
    "\n"
   ]
  },
  {
   "cell_type": "code",
   "execution_count": null,
   "id": "f1b6d0ef",
   "metadata": {},
   "outputs": [],
   "source": []
  }
 ],
 "metadata": {
  "kernelspec": {
   "display_name": "Python 3",
   "language": "python",
   "name": "python3"
  },
  "language_info": {
   "codemirror_mode": {
    "name": "ipython",
    "version": 3
   },
   "file_extension": ".py",
   "mimetype": "text/x-python",
   "name": "python",
   "nbconvert_exporter": "python",
   "pygments_lexer": "ipython3",
   "version": "3.10.12"
  }
 },
 "nbformat": 4,
 "nbformat_minor": 5
}
